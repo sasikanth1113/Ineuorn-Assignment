{
  "nbformat": 4,
  "nbformat_minor": 0,
  "metadata": {
    "colab": {
      "name": "Numpy assignment.ipynb",
      "provenance": [],
      "authorship_tag": "ABX9TyMZN78BKEvKSCSH3rbJeBwY",
      "include_colab_link": true
    },
    "kernelspec": {
      "name": "python3",
      "display_name": "Python 3"
    }
  },
  "cells": [
    {
      "cell_type": "markdown",
      "metadata": {
        "id": "view-in-github",
        "colab_type": "text"
      },
      "source": [
        "<a href=\"https://colab.research.google.com/github/sasikanth1113/Ineuorn-Assignment/blob/master/Numpy_assignment.ipynb\" target=\"_parent\"><img src=\"https://colab.research.google.com/assets/colab-badge.svg\" alt=\"Open In Colab\"/></a>"
      ]
    },
    {
      "cell_type": "code",
      "metadata": {
        "id": "y_rM8jJ7HpJw",
        "colab_type": "code",
        "colab": {
          "base_uri": "https://localhost:8080/",
          "height": 51
        },
        "outputId": "68080898-eb7f-4cff-95f3-d60937ee9238"
      },
      "source": [
        "import numpy as np\n",
        "\n",
        "def movingaverage(a,n=3):\n",
        "  #using cumsum for getting the cumulative sum of the numbers\n",
        "  sum = np.cumsum(a,dtype=float)\n",
        "  sum[n:] = sum[n:]-sum[:-n]\n",
        "  return sum[n-1:]/n\n",
        "\n",
        "a = [3, 5, 7, 2, 8, 10, 11, 65, 72, 81, 99, 100, 150]\n",
        "a1 = np.array(a)\n",
        "\n",
        "np.array(movingaverage(a1,n=3)).round(1)"
      ],
      "execution_count": 1,
      "outputs": [
        {
          "output_type": "execute_result",
          "data": {
            "text/plain": [
              "array([  5. ,   4.7,   5.7,   6.7,   9.7,  28.7,  49.3,  72.7,  84. ,\n",
              "        93.3, 116.3])"
            ]
          },
          "metadata": {
            "tags": []
          },
          "execution_count": 1
        }
      ]
    },
    {
      "cell_type": "code",
      "metadata": {
        "id": "X9t0rmKFIqKl",
        "colab_type": "code",
        "colab": {}
      },
      "source": [
        ""
      ],
      "execution_count": 1,
      "outputs": []
    }
  ]
}