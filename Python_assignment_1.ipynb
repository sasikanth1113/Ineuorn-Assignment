{
  "nbformat": 4,
  "nbformat_minor": 0,
  "metadata": {
    "colab": {
      "name": "Python assignment 1.ipynb",
      "provenance": [],
      "authorship_tag": "ABX9TyN/kr7DJH9KSp/ljKCXW01R",
      "include_colab_link": true
    },
    "kernelspec": {
      "name": "python3",
      "display_name": "Python 3"
    }
  },
  "cells": [
    {
      "cell_type": "markdown",
      "metadata": {
        "id": "view-in-github",
        "colab_type": "text"
      },
      "source": [
        "<a href=\"https://colab.research.google.com/github/sasikanth1113/Ineuorn-Assignment/blob/master/Python_assignment_1.ipynb\" target=\"_parent\"><img src=\"https://colab.research.google.com/assets/colab-badge.svg\" alt=\"Open In Colab\"/></a>"
      ]
    },
    {
      "cell_type": "markdown",
      "metadata": {
        "id": "REvGREbCcznu",
        "colab_type": "text"
      },
      "source": [
        "'''1 - Write a program which will find all such numbers which are divisible by 7 but are not \n",
        "a multiple of 5, between 2000 and 3200 (both included). \n",
        "The numbers obtained should be printed in a comma-separated sequence on a single line.'''\n"
      ]
    },
    {
      "cell_type": "code",
      "metadata": {
        "id": "mDkVGFRocqS9",
        "colab_type": "code",
        "colab": {
          "base_uri": "https://localhost:8080/",
          "height": 54
        },
        "outputId": "c38846eb-7e90-416f-cc06-dd84b4743e31"
      },
      "source": [
        "l=[]\n",
        "for i in range(2000, 3201):\n",
        "\tif (i%7==0) and (i%5!=0):\n",
        "\t\tl.append(str(i))\n",
        "\n",
        "print (','.join(l))\n"
      ],
      "execution_count": 1,
      "outputs": [
        {
          "output_type": "stream",
          "text": [
            "2002,2009,2016,2023,2037,2044,2051,2058,2072,2079,2086,2093,2107,2114,2121,2128,2142,2149,2156,2163,2177,2184,2191,2198,2212,2219,2226,2233,2247,2254,2261,2268,2282,2289,2296,2303,2317,2324,2331,2338,2352,2359,2366,2373,2387,2394,2401,2408,2422,2429,2436,2443,2457,2464,2471,2478,2492,2499,2506,2513,2527,2534,2541,2548,2562,2569,2576,2583,2597,2604,2611,2618,2632,2639,2646,2653,2667,2674,2681,2688,2702,2709,2716,2723,2737,2744,2751,2758,2772,2779,2786,2793,2807,2814,2821,2828,2842,2849,2856,2863,2877,2884,2891,2898,2912,2919,2926,2933,2947,2954,2961,2968,2982,2989,2996,3003,3017,3024,3031,3038,3052,3059,3066,3073,3087,3094,3101,3108,3122,3129,3136,3143,3157,3164,3171,3178,3192,3199\n"
          ],
          "name": "stdout"
        }
      ]
    },
    {
      "cell_type": "code",
      "metadata": {
        "id": "MnMef5F1dRH7",
        "colab_type": "code",
        "colab": {
          "base_uri": "https://localhost:8080/",
          "height": 68
        },
        "outputId": "b1ed7c37-268c-4ace-8821-35fd46b3b937"
      },
      "source": [
        "#2 - Write a Python program to accept the user's first and last name and then getting \n",
        "#them printed in the the reverse order with a space between first name and last name.'''\n",
        "\n",
        "\n",
        "firstname = input(\"What is your first name?:\")\n",
        "lastname = input(\"What's your last name?: \")\n",
        "print  ((firstname)[::-1] + ' ' + (lastname)[::-1])"
      ],
      "execution_count": 5,
      "outputs": [
        {
          "output_type": "stream",
          "text": [
            "What is your first name?:sasi\n",
            "What's your last name?: kanth\n",
            "isas htnak\n"
          ],
          "name": "stdout"
        }
      ]
    },
    {
      "cell_type": "code",
      "metadata": {
        "id": "qVMGT_jddeIt",
        "colab_type": "code",
        "colab": {
          "base_uri": "https://localhost:8080/",
          "height": 34
        },
        "outputId": "99dabac7-3eb3-4b8b-dbae-8efdd558c0ea"
      },
      "source": [
        "##3 -  Write a Python program to find the volume of a sphere with diameter 12 cm\n",
        "\n",
        "pi = 22//7\n",
        "r= 6.0\n",
        "V= 4.0/3.0*pi* r**3\n",
        "print('The volume of the sphere is: ',V)"
      ],
      "execution_count": 6,
      "outputs": [
        {
          "output_type": "stream",
          "text": [
            "The volume of the sphere is:  864.0\n"
          ],
          "name": "stdout"
        }
      ]
    },
    {
      "cell_type": "code",
      "metadata": {
        "id": "BLXAa739eD9w",
        "colab_type": "code",
        "colab": {}
      },
      "source": [
        ""
      ],
      "execution_count": null,
      "outputs": []
    }
  ]
}